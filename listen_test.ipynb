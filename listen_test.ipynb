{
 "cells": [
  {
   "cell_type": "code",
   "execution_count": null,
   "id": "biblical-defensive",
   "metadata": {},
   "outputs": [],
   "source": [
    "from IPython.display import Audio, HTML\n",
    "import re\n",
    "import os"
   ]
  },
  {
   "cell_type": "code",
   "execution_count": null,
   "id": "dramatic-publication",
   "metadata": {},
   "outputs": [],
   "source": [
    "meta='/workspace/espnet/egs2/aishell/asr1/data_zhaoli/test/wav.scp'\n",
    "use2nd=False\n",
    "ignore_english=False\n",
    "reverse=False\n",
    "cut_heads=5000\n",
    "\n",
    "wavmaps={}\n",
    "with open(meta) as f:\n",
    "    for line in f:\n",
    "        line=line.strip()\n",
    "        if line == '':\n",
    "            continue\n",
    "        wavid, wavpath=line.split()\n",
    "        wavmaps[wavid]=wavpath\n"
   ]
  },
  {
   "cell_type": "code",
   "execution_count": null,
   "id": "integral-privilege",
   "metadata": {},
   "outputs": [],
   "source": [
    "iid_text_wavpath"
   ]
  },
  {
   "cell_type": "code",
   "execution_count": null,
   "id": "better-invite",
   "metadata": {
    "scrolled": true
   },
   "outputs": [],
   "source": [
    "wavmaps.keys()"
   ]
  },
  {
   "cell_type": "code",
   "execution_count": null,
   "id": "specific-peninsula",
   "metadata": {},
   "outputs": [],
   "source": [
    "iid_text_wavpath=[]\n",
    "with open('res.out') as f:\n",
    "#with open('../uttsizesorted2') as f:\n",
    "    for line in f.readlines()[cut_heads:]:\n",
    "        line=line.strip()\n",
    "        if line=='':\n",
    "            continue\n",
    "        iid, text, iid2, text2=line.split()\n",
    "        wavpath=wavmaps[iid]\n",
    "        if use2nd:\n",
    "            wavpath=wavmaps[iid2]\n",
    "            text=text2\n",
    "        iid_text_wavpath.append((iid, text, wavpath))\n",
    "if ignore_english:\n",
    "    iid_text_wavpath=[items for items in iid_text_wavpath if re.search('[a-zA-Z]', items[1]) is None and len(items[1])>1]\n",
    "else:\n",
    "    iid_text_wavpath=[items for items in iid_text_wavpath if len(items[1])>1] \n",
    "if reverse:\n",
    "    iid_text_wavpath.reverse()\n",
    "labels=[]"
   ]
  },
  {
   "cell_type": "code",
   "execution_count": null,
   "id": "ranging-logic",
   "metadata": {},
   "outputs": [],
   "source": [
    "cur_idx = \"\"\n",
    "label = \"\"\n",
    "htm = \"\"\"\n",
    "<p id='abc'>Press \"Next\" to start</p>\n",
    "<br>\n",
    "<button onclick=\"set_value(1)\" style=\"width:20%;\">Next</button>\n",
    "<button onclick=\"set_value(-1)\" style=\"width:20%;\">Prev</button>\n",
    "<button onclick=\"label(1)\" style=\"width:20%;background-color:yellow\">SHIT</button>\n",
    "<button onclick=\"label(0)\" style=\"width:20%;background-color:green\">Fine</button>\n",
    "<button onclick=\"view(0)\" style=\"width:20%;\">View</button>\n",
    "\n",
    "<script type=\"text/Javascript\">\n",
    "    len=\"\"\"+str(len(iid_text_wavpath))+\"\"\"\n",
    "    idx=-1\n",
    "    function callback(out){\n",
    "        var res = null;\n",
    "        // if output is a print statement\n",
    "        if(out['msg_type'] == \"stream\"){\n",
    "            res = out['content']['text'];\n",
    "        }\n",
    "        // if output is a python object\n",
    "        else if(out['msg_type'] === \"pyout\"){\n",
    "            res = out.data[\"text/plain\"];\n",
    "        }\n",
    "        // if output is a python error\n",
    "        else if(out['msg_type'] == \"pyerr\"){\n",
    "            res = out.ename + \": \" + out.evalue;\n",
    "        }\n",
    "        // if output is something we haven't thought of\n",
    "        else{\n",
    "            res = \"[out type not implemented]\";   \n",
    "        }\n",
    "        document.getElementById(\"abc\").innerHTML=res\n",
    "    }\n",
    "    \n",
    "    function label(yn){\n",
    "        var command = \"label = \" + yn.toString();\n",
    "        var kernel = IPython.notebook.kernel;\n",
    "        kernel.execute(command);\n",
    "        IPython.notebook.execute_cells([7])\n",
    "    }\n",
    "    \n",
    "    function set_value(inc){\n",
    "        if(inc>0 && idx>=len){\n",
    "            document.getElementById(\"abc\").innerHTML=\"End\"\n",
    "        }\n",
    "        else if(inc<0 && idx<0){\n",
    "            document.getElementById(\"abc\").innerHTML=\"Head\"\n",
    "        }\n",
    "        else{\n",
    "            idx+=inc\n",
    "            var command = \"cur_idx = \" + idx.toString();\n",
    "            var kernel = IPython.notebook.kernel;\n",
    "            kernel.execute(command);\n",
    "            IPython.notebook.execute_cells([6, 8])\n",
    "            \n",
    "            kernel.execute('print(iid_text_wavpath[cur_idx][0])', {'iopub': {\"output\": callback}});\n",
    "        }\n",
    "    }\n",
    "    \n",
    "    function view(){\n",
    "        IPython.notebook.execute_cells([9])\n",
    "    }\n",
    "</script>\n",
    "\"\"\"\n",
    "HTML(htm)"
   ]
  },
  {
   "cell_type": "code",
   "execution_count": null,
   "id": "major-method",
   "metadata": {},
   "outputs": [],
   "source": [
    "print(iid_text_wavpath[cur_idx][1])\n",
    "print(iid_text_wavpath[cur_idx][2], os.path.exists(iid_text_wavpath[cur_idx][2]))\n",
    "Audio(iid_text_wavpath[cur_idx][2])"
   ]
  },
  {
   "cell_type": "code",
   "execution_count": null,
   "id": "conditional-spending",
   "metadata": {},
   "outputs": [],
   "source": [
    "labels.append((iid_text_wavpath[cur_idx][0], label))\n",
    "print(f'labeled {iid_text_wavpath[cur_idx][0]}')\n",
    "if len(labels)!=cur_idx+1:\n",
    "    print('smth missing')"
   ]
  },
  {
   "cell_type": "code",
   "execution_count": null,
   "id": "continuous-adapter",
   "metadata": {},
   "outputs": [],
   "source": [
    "if len(labels)==cur_idx:\n",
    "    print('sfsg, follow above instr')\n",
    "elif len(labels)>cur_idx:\n",
    "    print(f'{len(labels)-cur_idx} ahead to go')\n",
    "else:\n",
    "    print('smth missing')"
   ]
  },
  {
   "cell_type": "code",
   "execution_count": null,
   "id": "recovered-corpus",
   "metadata": {},
   "outputs": [],
   "source": [
    "labels"
   ]
  },
  {
   "cell_type": "code",
   "execution_count": null,
   "id": "concerned-clock",
   "metadata": {},
   "outputs": [],
   "source": [
    "labels=[]\n",
    "print(labels)"
   ]
  },
  {
   "cell_type": "code",
   "execution_count": null,
   "id": "announced-diagram",
   "metadata": {},
   "outputs": [],
   "source": [
    "with open('label_res.out', 'w') as f:\n",
    "    for iid, l in labels:\n",
    "        f.write(f'{iid} {l}\\n')"
   ]
  },
  {
   "cell_type": "code",
   "execution_count": null,
   "id": "available-muscle",
   "metadata": {},
   "outputs": [],
   "source": []
  },
  {
   "cell_type": "code",
   "execution_count": null,
   "id": "positive-tissue",
   "metadata": {},
   "outputs": [],
   "source": []
  }
 ],
 "metadata": {
  "celltoolbar": "原始单元格格式",
  "kernelspec": {
   "display_name": "Python 3",
   "language": "python",
   "name": "python3"
  },
  "language_info": {
   "codemirror_mode": {
    "name": "ipython",
    "version": 3
   },
   "file_extension": ".py",
   "mimetype": "text/x-python",
   "name": "python",
   "nbconvert_exporter": "python",
   "pygments_lexer": "ipython3",
   "version": "3.6.9"
  }
 },
 "nbformat": 4,
 "nbformat_minor": 5
}
